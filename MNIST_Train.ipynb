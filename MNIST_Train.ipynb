{
 "cells": [
  {
   "cell_type": "code",
   "execution_count": 19,
   "metadata": {},
   "outputs": [],
   "source": [
    "import numpy as np\n",
    "\n",
    "import matplotlib.pyplot as plt\n",
    "import keras\n",
    "from keras.datasets import mnist\n",
    "from keras.models import Sequential\n",
    "\n",
    "from keras.layers import Conv2D,Dense,MaxPool2D,Flatten, Dropout\n",
    "\n",
    "\n",
    "\n"
   ]
  },
  {
   "cell_type": "code",
   "execution_count": 51,
   "metadata": {},
   "outputs": [
    {
     "data": {
      "text/plain": [
       "((60000, 28, 28), (60000,), (10000, 28, 28), (10000,))"
      ]
     },
     "execution_count": 51,
     "metadata": {},
     "output_type": "execute_result"
    }
   ],
   "source": [
    "(x_train, y_train), (x_test, y_test) = mnist.load_data()\n",
    "x_train.shape, y_train.shape , x_test.shape , y_test.shape\n"
   ]
  },
  {
   "cell_type": "code",
   "execution_count": 49,
   "metadata": {},
   "outputs": [],
   "source": [
    "def plot_image(i):\n",
    "    plt.imshow(x_train[i])\n",
    "    plt.title(y_train[i])\n",
    "    plt.show()\n",
    "    \n",
    "    "
   ]
  },
  {
   "cell_type": "code",
   "execution_count": 53,
   "metadata": {},
   "outputs": [],
   "source": [
    "#pre process the data or normalizing the data so the complex computation boil downs to 0 and 1\n",
    "\n",
    "x_train = x_train.astype(np.float32)/255\n",
    "x_test = x_test.astype(np.float32)/255\n",
    "\n",
    "# # reshape of expand the dimention of the image to [28,28,1]\n",
    "\n",
    "x_train = np.expand_dims(x_train, -1)\n",
    "x_test = np.expand_dims(x_test, -1)\n",
    "\n",
    "\n",
    "\n",
    "\n",
    " \n",
    " \n",
    "\n",
    "# preprocess the output variable\n",
    "# # need to convert y_train to [0,1] type only because now it contain the value range from 0 to 9\n",
    "y_train = keras.utils.to_categorical(y_train)   #convert numpy array with different value to binary values\n",
    "y_test = keras.utils.to_categorical(y_test)"
   ]
  },
  {
   "cell_type": "code",
   "execution_count": 54,
   "metadata": {},
   "outputs": [
    {
     "name": "stdout",
     "output_type": "stream",
     "text": [
      "Model: \"sequential_1\"\n",
      "_________________________________________________________________\n",
      " Layer (type)                Output Shape              Param #   \n",
      "=================================================================\n",
      " conv2d_2 (Conv2D)           (None, 26, 26, 32)        320       \n",
      "                                                                 \n",
      " max_pooling2d_2 (MaxPooling  (None, 13, 13, 32)       0         \n",
      " 2D)                                                             \n",
      "                                                                 \n",
      " conv2d_3 (Conv2D)           (None, 11, 11, 64)        18496     \n",
      "                                                                 \n",
      " max_pooling2d_3 (MaxPooling  (None, 5, 5, 64)         0         \n",
      " 2D)                                                             \n",
      "                                                                 \n",
      " flatten_1 (Flatten)         (None, 1600)              0         \n",
      "                                                                 \n",
      " dropout_1 (Dropout)         (None, 1600)              0         \n",
      "                                                                 \n",
      " dense_1 (Dense)             (None, 10)                16010     \n",
      "                                                                 \n",
      "=================================================================\n",
      "Total params: 34,826\n",
      "Trainable params: 34,826\n",
      "Non-trainable params: 0\n",
      "_________________________________________________________________\n"
     ]
    }
   ],
   "source": [
    "# building the model\n",
    "model = Sequential()\n",
    "\n",
    "# 2 convolutional layers \n",
    "model.add(Conv2D(32 , (3,3), input_shape = (28,28,1), activation='relu'))\n",
    "model.add(MaxPool2D(2,2))\n",
    "\n",
    "model.add(Conv2D(64 , (3,3), activation='relu'))\n",
    "model.add(MaxPool2D((2,2)))\n",
    "\n",
    "model.add(Flatten())\n",
    "\n",
    "model.add(Dropout(0.25))\n",
    "\n",
    "# now time for the classification\n",
    "model.add(Dense(10, activation='softmax'))\n",
    "\n",
    "\n",
    "model.summary()\n"
   ]
  },
  {
   "cell_type": "code",
   "execution_count": 55,
   "metadata": {},
   "outputs": [],
   "source": [
    "# model.compile(optimizer='adam', loss = keras.losses.categorical_crossentropy, metrics=['accuracy'])\n",
    "model.compile(loss=keras.losses.categorical_crossentropy ,optimizer=keras.optimizers.Adadelta(),metrics=['accuracy'])"
   ]
  },
  {
   "cell_type": "code",
   "execution_count": 56,
   "metadata": {},
   "outputs": [],
   "source": [
    "# callbacks \n",
    "\n",
    "from keras.callbacks import EarlyStopping , ModelCheckpoint\n",
    "\n",
    "# early stopping \n",
    "es = EarlyStopping(monitor='val_acc', min_delta=0.01, patience=4, verbose=1)\n",
    "\n",
    "# model check points \n",
    "\n",
    "mc = ModelCheckpoint(\"./bestmodel.h5\" , monitor=\"val_acc\", verbose=1 ,save_best_only=True)\n",
    "\n",
    "\n",
    "cb = [es,mc]"
   ]
  },
  {
   "cell_type": "code",
   "execution_count": 57,
   "metadata": {},
   "outputs": [
    {
     "name": "stdout",
     "output_type": "stream",
     "text": [
      "Epoch 1/50\n",
      "1313/1313 [==============================] - 28s 21ms/step - loss: 2.3113 - accuracy: 0.0924 - val_loss: 2.2925 - val_accuracy: 0.1113\n",
      "Epoch 2/50\n",
      "1313/1313 [==============================] - 27s 21ms/step - loss: 2.2807 - accuracy: 0.1411 - val_loss: 2.2624 - val_accuracy: 0.1972\n",
      "Epoch 3/50\n",
      "1313/1313 [==============================] - 27s 21ms/step - loss: 2.2510 - accuracy: 0.2165 - val_loss: 2.2320 - val_accuracy: 0.3424\n",
      "Epoch 4/50\n",
      "1313/1313 [==============================] - 27s 21ms/step - loss: 2.2203 - accuracy: 0.3062 - val_loss: 2.1989 - val_accuracy: 0.4841\n",
      "Epoch 5/50\n",
      "1313/1313 [==============================] - 27s 21ms/step - loss: 2.1860 - accuracy: 0.3970 - val_loss: 2.1619 - val_accuracy: 0.5829\n",
      "Epoch 6/50\n",
      "1313/1313 [==============================] - 27s 20ms/step - loss: 2.1479 - accuracy: 0.4644 - val_loss: 2.1192 - val_accuracy: 0.6341\n",
      "Epoch 7/50\n",
      "1313/1313 [==============================] - 28s 22ms/step - loss: 2.1034 - accuracy: 0.5178 - val_loss: 2.0694 - val_accuracy: 0.6686\n",
      "Epoch 8/50\n",
      "1313/1313 [==============================] - 29s 22ms/step - loss: 2.0524 - accuracy: 0.5570 - val_loss: 2.0113 - val_accuracy: 0.6923\n",
      "Epoch 9/50\n",
      "1313/1313 [==============================] - 29s 22ms/step - loss: 1.9917 - accuracy: 0.5900 - val_loss: 1.9436 - val_accuracy: 0.7122\n",
      "Epoch 10/50\n",
      "1313/1313 [==============================] - 32s 24ms/step - loss: 1.9229 - accuracy: 0.6111 - val_loss: 1.8657 - val_accuracy: 0.7262\n",
      "Epoch 11/50\n",
      "1313/1313 [==============================] - 37s 28ms/step - loss: 1.8427 - accuracy: 0.6298 - val_loss: 1.7777 - val_accuracy: 0.7392\n",
      "Epoch 12/50\n",
      "1313/1313 [==============================] - 38s 29ms/step - loss: 1.7537 - accuracy: 0.6482 - val_loss: 1.6805 - val_accuracy: 0.7488\n",
      "Epoch 13/50\n",
      "1313/1313 [==============================] - 36s 28ms/step - loss: 1.6596 - accuracy: 0.6575 - val_loss: 1.5773 - val_accuracy: 0.7584\n",
      "Epoch 14/50\n",
      "1313/1313 [==============================] - 38s 29ms/step - loss: 1.5618 - accuracy: 0.6677 - val_loss: 1.4708 - val_accuracy: 0.7667\n",
      "Epoch 15/50\n",
      "1313/1313 [==============================] - 39s 30ms/step - loss: 1.4616 - accuracy: 0.6801 - val_loss: 1.3655 - val_accuracy: 0.7736\n",
      "Epoch 16/50\n",
      "1313/1313 [==============================] - 36s 27ms/step - loss: 1.3648 - accuracy: 0.6904 - val_loss: 1.2646 - val_accuracy: 0.7820\n",
      "Epoch 17/50\n",
      "1313/1313 [==============================] - 29s 22ms/step - loss: 1.2744 - accuracy: 0.6995 - val_loss: 1.1705 - val_accuracy: 0.7910\n",
      "Epoch 18/50\n",
      "1313/1313 [==============================] - 30s 23ms/step - loss: 1.1928 - accuracy: 0.7109 - val_loss: 1.0852 - val_accuracy: 0.7994\n",
      "Epoch 19/50\n",
      "1313/1313 [==============================] - 29s 22ms/step - loss: 1.1181 - accuracy: 0.7200 - val_loss: 1.0095 - val_accuracy: 0.8062\n",
      "Epoch 20/50\n",
      "1313/1313 [==============================] - 31s 23ms/step - loss: 1.0590 - accuracy: 0.7251 - val_loss: 0.9426 - val_accuracy: 0.8113\n",
      "Epoch 21/50\n",
      "1313/1313 [==============================] - 29s 22ms/step - loss: 0.9991 - accuracy: 0.7385 - val_loss: 0.8840 - val_accuracy: 0.8170\n",
      "Epoch 22/50\n",
      "1313/1313 [==============================] - 31s 24ms/step - loss: 0.9481 - accuracy: 0.7445 - val_loss: 0.8325 - val_accuracy: 0.8224\n",
      "Epoch 23/50\n",
      "1313/1313 [==============================] - 31s 23ms/step - loss: 0.9052 - accuracy: 0.7514 - val_loss: 0.7872 - val_accuracy: 0.8281\n",
      "Epoch 24/50\n",
      "1313/1313 [==============================] - 33s 25ms/step - loss: 0.8670 - accuracy: 0.7574 - val_loss: 0.7480 - val_accuracy: 0.8329\n",
      "Epoch 25/50\n",
      "1313/1313 [==============================] - 32s 24ms/step - loss: 0.8339 - accuracy: 0.7633 - val_loss: 0.7132 - val_accuracy: 0.8373\n",
      "Epoch 26/50\n",
      "1313/1313 [==============================] - 29s 22ms/step - loss: 0.8042 - accuracy: 0.7685 - val_loss: 0.6823 - val_accuracy: 0.8408\n",
      "Epoch 27/50\n",
      "1313/1313 [==============================] - 27s 21ms/step - loss: 0.7784 - accuracy: 0.7742 - val_loss: 0.6550 - val_accuracy: 0.8447\n",
      "Epoch 28/50\n",
      "1313/1313 [==============================] - 25s 19ms/step - loss: 0.7520 - accuracy: 0.7819 - val_loss: 0.6301 - val_accuracy: 0.8483\n",
      "Epoch 29/50\n",
      "1313/1313 [==============================] - 28s 21ms/step - loss: 0.7324 - accuracy: 0.7863 - val_loss: 0.6082 - val_accuracy: 0.8516\n",
      "Epoch 30/50\n",
      "1313/1313 [==============================] - 34s 26ms/step - loss: 0.7080 - accuracy: 0.7932 - val_loss: 0.5877 - val_accuracy: 0.8554\n",
      "Epoch 31/50\n",
      "1313/1313 [==============================] - ETA: 0s - loss: 0.6888 - accuracy: 0.7957"
     ]
    }
   ],
   "source": [
    "# model training\n",
    "\n",
    "hist = model.fit(x_train, y_train,epochs=50 ,validation_split=0.3)\n",
    "\n",
    "\n"
   ]
  }
 ],
 "metadata": {
  "kernelspec": {
   "display_name": "Python 3",
   "language": "python",
   "name": "python3"
  },
  "language_info": {
   "codemirror_mode": {
    "name": "ipython",
    "version": 3
   },
   "file_extension": ".py",
   "mimetype": "text/x-python",
   "name": "python",
   "nbconvert_exporter": "python",
   "pygments_lexer": "ipython3",
   "version": "3.9.13"
  },
  "orig_nbformat": 4
 },
 "nbformat": 4,
 "nbformat_minor": 2
}
